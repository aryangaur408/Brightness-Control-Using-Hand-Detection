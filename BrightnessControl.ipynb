{
 "cells": [
  {
   "cell_type": "code",
   "execution_count": 1,
   "id": "54531955",
   "metadata": {},
   "outputs": [
    {
     "name": "stdout",
     "output_type": "stream",
     "text": [
      "Requirement already satisfied: mediapipe in c:\\users\\aryan\\anaconda3\\lib\\site-packages (0.10.1)\n",
      "Requirement already satisfied: protobuf<4,>=3.11 in c:\\users\\aryan\\anaconda3\\lib\\site-packages (from mediapipe) (3.20.3)\n",
      "Requirement already satisfied: numpy in c:\\users\\aryan\\anaconda3\\lib\\site-packages (from mediapipe) (1.21.5)\n",
      "Requirement already satisfied: matplotlib in c:\\users\\aryan\\anaconda3\\lib\\site-packages (from mediapipe) (3.5.2)\n",
      "Requirement already satisfied: opencv-contrib-python in c:\\users\\aryan\\anaconda3\\lib\\site-packages (from mediapipe) (4.8.0.74)\n",
      "Requirement already satisfied: flatbuffers>=2.0 in c:\\users\\aryan\\anaconda3\\lib\\site-packages (from mediapipe) (23.5.26)\n",
      "Requirement already satisfied: sounddevice>=0.4.4 in c:\\users\\aryan\\anaconda3\\lib\\site-packages (from mediapipe) (0.4.6)\n",
      "Requirement already satisfied: absl-py in c:\\users\\aryan\\anaconda3\\lib\\site-packages (from mediapipe) (1.4.0)\n",
      "Requirement already satisfied: attrs>=19.1.0 in c:\\users\\aryan\\anaconda3\\lib\\site-packages (from mediapipe) (21.4.0)\n",
      "Requirement already satisfied: CFFI>=1.0 in c:\\users\\aryan\\anaconda3\\lib\\site-packages (from sounddevice>=0.4.4->mediapipe) (1.15.1)\n",
      "Requirement already satisfied: pillow>=6.2.0 in c:\\users\\aryan\\anaconda3\\lib\\site-packages (from matplotlib->mediapipe) (9.2.0)\n",
      "Requirement already satisfied: fonttools>=4.22.0 in c:\\users\\aryan\\anaconda3\\lib\\site-packages (from matplotlib->mediapipe) (4.25.0)\n",
      "Requirement already satisfied: kiwisolver>=1.0.1 in c:\\users\\aryan\\anaconda3\\lib\\site-packages (from matplotlib->mediapipe) (1.4.2)\n",
      "Requirement already satisfied: python-dateutil>=2.7 in c:\\users\\aryan\\anaconda3\\lib\\site-packages (from matplotlib->mediapipe) (2.8.2)\n",
      "Requirement already satisfied: cycler>=0.10 in c:\\users\\aryan\\anaconda3\\lib\\site-packages (from matplotlib->mediapipe) (0.11.0)\n",
      "Requirement already satisfied: packaging>=20.0 in c:\\users\\aryan\\anaconda3\\lib\\site-packages (from matplotlib->mediapipe) (21.3)\n",
      "Requirement already satisfied: pyparsing>=2.2.1 in c:\\users\\aryan\\anaconda3\\lib\\site-packages (from matplotlib->mediapipe) (3.0.9)\n",
      "Requirement already satisfied: pycparser in c:\\users\\aryan\\anaconda3\\lib\\site-packages (from CFFI>=1.0->sounddevice>=0.4.4->mediapipe) (2.21)\n",
      "Requirement already satisfied: six>=1.5 in c:\\users\\aryan\\anaconda3\\lib\\site-packages (from python-dateutil>=2.7->matplotlib->mediapipe) (1.16.0)\n",
      "Note: you may need to restart the kernel to use updated packages.\n"
     ]
    }
   ],
   "source": [
    "pip install mediapipe "
   ]
  },
  {
   "cell_type": "code",
   "execution_count": 2,
   "id": "186a3fed",
   "metadata": {},
   "outputs": [
    {
     "name": "stdout",
     "output_type": "stream",
     "text": [
      "Requirement already satisfied: opencv-python in c:\\users\\aryan\\anaconda3\\lib\\site-packages (4.7.0.72)\n",
      "Requirement already satisfied: numpy>=1.19.3 in c:\\users\\aryan\\anaconda3\\lib\\site-packages (from opencv-python) (1.21.5)\n",
      "Note: you may need to restart the kernel to use updated packages.\n"
     ]
    }
   ],
   "source": [
    "pip install opencv-python"
   ]
  },
  {
   "cell_type": "code",
   "execution_count": 3,
   "id": "91251c5e",
   "metadata": {},
   "outputs": [
    {
     "name": "stdout",
     "output_type": "stream",
     "text": [
      "Requirement already satisfied: screen-brightness-control in c:\\users\\aryan\\anaconda3\\lib\\site-packages (0.21.0)\n",
      "Requirement already satisfied: wmi in c:\\users\\aryan\\anaconda3\\lib\\site-packages (from screen-brightness-control) (1.5.1)\n",
      "Requirement already satisfied: pywin32 in c:\\users\\aryan\\anaconda3\\lib\\site-packages (from screen-brightness-control) (302)\n",
      "Note: you may need to restart the kernel to use updated packages.\n"
     ]
    }
   ],
   "source": [
    "pip install screen-brightness-control"
   ]
  },
  {
   "cell_type": "code",
   "execution_count": 4,
   "id": "4d9d6c38",
   "metadata": {},
   "outputs": [
    {
     "name": "stdout",
     "output_type": "stream",
     "text": [
      "Requirement already satisfied: numpy in c:\\users\\aryan\\anaconda3\\lib\\site-packages (1.21.5)\n",
      "Note: you may need to restart the kernel to use updated packages.\n"
     ]
    }
   ],
   "source": [
    "pip install numpy"
   ]
  },
  {
   "cell_type": "code",
   "execution_count": 1,
   "id": "305295a4",
   "metadata": {},
   "outputs": [
    {
     "ename": "KeyboardInterrupt",
     "evalue": "",
     "output_type": "error",
     "traceback": [
      "\u001b[1;31m---------------------------------------------------------------------------\u001b[0m",
      "\u001b[1;31mKeyboardInterrupt\u001b[0m                         Traceback (most recent call last)",
      "\u001b[1;32m~\\AppData\\Local\\Temp\\ipykernel_2624\\292054865.py\u001b[0m in \u001b[0;36m<module>\u001b[1;34m\u001b[0m\n\u001b[0;32m     31\u001b[0m \u001b[1;33m\u001b[0m\u001b[0m\n\u001b[0;32m     32\u001b[0m     \u001b[1;31m# Process the RGB image\u001b[0m\u001b[1;33m\u001b[0m\u001b[1;33m\u001b[0m\u001b[0m\n\u001b[1;32m---> 33\u001b[1;33m     \u001b[0mProcess\u001b[0m \u001b[1;33m=\u001b[0m \u001b[0mhands\u001b[0m\u001b[1;33m.\u001b[0m\u001b[0mprocess\u001b[0m\u001b[1;33m(\u001b[0m\u001b[0mframeRGB\u001b[0m\u001b[1;33m)\u001b[0m\u001b[1;33m\u001b[0m\u001b[1;33m\u001b[0m\u001b[0m\n\u001b[0m\u001b[0;32m     34\u001b[0m \u001b[1;33m\u001b[0m\u001b[0m\n\u001b[0;32m     35\u001b[0m     \u001b[0mlandmarkList\u001b[0m \u001b[1;33m=\u001b[0m \u001b[1;33m[\u001b[0m\u001b[1;33m]\u001b[0m\u001b[1;33m\u001b[0m\u001b[1;33m\u001b[0m\u001b[0m\n",
      "\u001b[1;32m~\\anaconda3\\lib\\site-packages\\mediapipe\\python\\solutions\\hands.py\u001b[0m in \u001b[0;36mprocess\u001b[1;34m(self, image)\u001b[0m\n\u001b[0;32m    151\u001b[0m     \"\"\"\n\u001b[0;32m    152\u001b[0m \u001b[1;33m\u001b[0m\u001b[0m\n\u001b[1;32m--> 153\u001b[1;33m     \u001b[1;32mreturn\u001b[0m \u001b[0msuper\u001b[0m\u001b[1;33m(\u001b[0m\u001b[1;33m)\u001b[0m\u001b[1;33m.\u001b[0m\u001b[0mprocess\u001b[0m\u001b[1;33m(\u001b[0m\u001b[0minput_data\u001b[0m\u001b[1;33m=\u001b[0m\u001b[1;33m{\u001b[0m\u001b[1;34m'image'\u001b[0m\u001b[1;33m:\u001b[0m \u001b[0mimage\u001b[0m\u001b[1;33m}\u001b[0m\u001b[1;33m)\u001b[0m\u001b[1;33m\u001b[0m\u001b[1;33m\u001b[0m\u001b[0m\n\u001b[0m",
      "\u001b[1;32m~\\anaconda3\\lib\\site-packages\\mediapipe\\python\\solution_base.py\u001b[0m in \u001b[0;36mprocess\u001b[1;34m(self, input_data)\u001b[0m\n\u001b[0;32m    363\u001b[0m                                      data).at(self._simulated_timestamp))\n\u001b[0;32m    364\u001b[0m \u001b[1;33m\u001b[0m\u001b[0m\n\u001b[1;32m--> 365\u001b[1;33m     \u001b[0mself\u001b[0m\u001b[1;33m.\u001b[0m\u001b[0m_graph\u001b[0m\u001b[1;33m.\u001b[0m\u001b[0mwait_until_idle\u001b[0m\u001b[1;33m(\u001b[0m\u001b[1;33m)\u001b[0m\u001b[1;33m\u001b[0m\u001b[1;33m\u001b[0m\u001b[0m\n\u001b[0m\u001b[0;32m    366\u001b[0m     \u001b[1;31m# Create a NamedTuple object where the field names are mapping to the graph\u001b[0m\u001b[1;33m\u001b[0m\u001b[1;33m\u001b[0m\u001b[0m\n\u001b[0;32m    367\u001b[0m     \u001b[1;31m# output stream names.\u001b[0m\u001b[1;33m\u001b[0m\u001b[1;33m\u001b[0m\u001b[0m\n",
      "\u001b[1;31mKeyboardInterrupt\u001b[0m: "
     ]
    }
   ],
   "source": [
    "# Importing Libraries\n",
    "import cv2\n",
    "import mediapipe as mp\n",
    "from math import hypot\n",
    "import screen_brightness_control as sbc\n",
    "import numpy as np\n",
    "\n",
    "# Initializing the Model\n",
    "mpHands = mp.solutions.hands\n",
    "hands = mpHands.Hands(\n",
    "    static_image_mode=False,\n",
    "    model_complexity=1,\n",
    "    min_detection_confidence=0.75,\n",
    "    min_tracking_confidence=0.75,\n",
    "    max_num_hands=2)\n",
    "\n",
    "Draw = mp.solutions.drawing_utils\n",
    "\n",
    "# Start capturing video from webcam\n",
    "cap = cv2.VideoCapture(0)\n",
    "\n",
    "while True:\n",
    "    # Read video frame by frame\n",
    "    _, frame = cap.read()\n",
    "\n",
    "    # Flip image\n",
    "    frame = cv2.flip(frame, 1)\n",
    "\n",
    "    # Convert BGR image to RGB image\n",
    "    frameRGB = cv2.cvtColor(frame, cv2.COLOR_BGR2RGB)\n",
    "\n",
    "    # Process the RGB image\n",
    "    Process = hands.process(frameRGB)\n",
    "\n",
    "    landmarkList = []\n",
    "    # if hands are present in image(frame)\n",
    "    if Process.multi_hand_landmarks:\n",
    "        # detect handmarks\n",
    "        for handlm in Process.multi_hand_landmarks:\n",
    "            for _id, landmarks in enumerate(handlm.landmark):\n",
    "                # store height and width of image\n",
    "                height, width, color_channels = frame.shape\n",
    "\n",
    "                # calculate and append x, y coordinates\n",
    "                # of handmarks from image(frame) to lmList\n",
    "                x, y = int(landmarks.x*width), int(landmarks.y*height)\n",
    "                landmarkList.append([_id, x, y])\n",
    "\n",
    "            # draw Landmarks\n",
    "            Draw.draw_landmarks(frame, handlm,\n",
    "                                mpHands.HAND_CONNECTIONS)\n",
    "\n",
    "    # If landmarks list is not empty\n",
    "    if landmarkList != []:\n",
    "        # store x,y coordinates of (tip of) thumb\n",
    "        x_1, y_1 = landmarkList[4][1], landmarkList[4][2]\n",
    "\n",
    "        # store x,y coordinates of (tip of) index finger\n",
    "        x_2, y_2 = landmarkList[8][1], landmarkList[8][2]\n",
    "\n",
    "        # draw circle on thumb and index finger tip\n",
    "        cv2.circle(frame, (x_1, y_1), 7, (0, 255, 0), cv2.FILLED)\n",
    "        cv2.circle(frame, (x_2, y_2), 7, (0, 255, 0), cv2.FILLED)\n",
    "\n",
    "        # draw line from tip of thumb to tip of index finger\n",
    "        cv2.line(frame, (x_1, y_1), (x_2, y_2), (0, 255, 0), 3)\n",
    "\n",
    "        # calculate square root of the sum of\n",
    "        # squares of the specified arguments.\n",
    "        L = hypot(x_2-x_1, y_2-y_1)\n",
    "\n",
    "        # 1-D linear interpolant to a function\n",
    "        # with given discrete data points\n",
    "        # (Hand range 15 - 220, Brightness\n",
    "        # range 0 - 100), evaluated at length.\n",
    "        b_level = np.interp(L, [15, 220], [0, 100])\n",
    "\n",
    "        # set brightness\n",
    "        sbc.set_brightness(int(b_level))\n",
    "\n",
    "    # Display Video and when 'q' is entered, destroy\n",
    "    # the window\n",
    "    cv2.imshow('Image', frame)\n",
    "    if cv2.waitKey(1) & 0xff == ord('q'):\n",
    "        break\n"
   ]
  },
  {
   "cell_type": "code",
   "execution_count": null,
   "id": "4e236702",
   "metadata": {},
   "outputs": [],
   "source": []
  }
 ],
 "metadata": {
  "kernelspec": {
   "display_name": "Python 3 (ipykernel)",
   "language": "python",
   "name": "python3"
  },
  "language_info": {
   "codemirror_mode": {
    "name": "ipython",
    "version": 3
   },
   "file_extension": ".py",
   "mimetype": "text/x-python",
   "name": "python",
   "nbconvert_exporter": "python",
   "pygments_lexer": "ipython3",
   "version": "3.9.13"
  }
 },
 "nbformat": 4,
 "nbformat_minor": 5
}
